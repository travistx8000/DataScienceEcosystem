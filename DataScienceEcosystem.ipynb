{
 "cells": [
  {
   "cell_type": "markdown",
   "id": "a9a80241-e2d2-43b9-8004-deee94918d1a",
   "metadata": {},
   "source": [
    "# Data Science Tools and Ecosystem"
   ]
  },
  {
   "cell_type": "markdown",
   "id": "7b530947-fb89-44b0-8957-c940b9f6cc3f",
   "metadata": {},
   "source": [
    "In this notebook, Data Science Tools and Ecosystem are summarized."
   ]
  },
  {
   "cell_type": "markdown",
   "id": "8734930d-59ae-4e09-b98d-2b316fce74ae",
   "metadata": {},
   "source": [
    "**Objectives:**\n",
    "\n",
    "- List popular languages for Data Science\n",
    "- Identify commonly used libraries in Data Science\n",
    "- Understand basic arithmetic operations in Python\n",
    "- Create tables and lists in Jupyter Notebook\n",
    "- Explore development environment tools used in Data Science"
   ]
  },
  {
   "cell_type": "markdown",
   "id": "cf5314b5-3a01-42f0-8a32-b1bd3bb9321e",
   "metadata": {},
   "source": [
    "Some of the popular languages that Data Scientists use are:\n",
    "\n",
    "1. Python\n",
    "2. R\n",
    "3. SQL\n",
    "4. Java\n",
    "5. Julia\n"
   ]
  },
  {
   "cell_type": "markdown",
   "id": "8cde8e84-684c-4962-b054-2c10392962be",
   "metadata": {},
   "source": [
    "Some of the commonly used libraries used by Data Scientists include:\n",
    "\n",
    "1. Pandas\n",
    "2. NumPy\n",
    "3. PyTorch\n",
    "4. Seaborn\n",
    "5. Plotly"
   ]
  },
  {
   "cell_type": "markdown",
   "id": "3713574b-8427-4fee-9228-4c9d9ca541b4",
   "metadata": {},
   "source": [
    "| Data Science Tools |\n",
    "|--------------------|\n",
    "| Jupyter Notebook   |\n",
    "| RStudio            |\n",
    "| Apache Zeppelin    |"
   ]
  },
  {
   "cell_type": "markdown",
   "id": "e2507ab7-dc9c-4b33-9b92-23bdd78d4cc5",
   "metadata": {},
   "source": [
    "### Examples of Arithmetic Expressions"
   ]
  },
  {
   "cell_type": "code",
   "execution_count": 1,
   "id": "ecd387ee-ab71-4b92-a602-491602f5b2b3",
   "metadata": {
    "tags": []
   },
   "outputs": [
    {
     "data": {
      "text/plain": [
       "17"
      ]
     },
     "execution_count": 1,
     "metadata": {},
     "output_type": "execute_result"
    }
   ],
   "source": [
    "# This a simple arithmetic expression to mutiply then add integers\n",
    "\n",
    "(3*4)+5"
   ]
  },
  {
   "cell_type": "code",
   "execution_count": 2,
   "id": "c4cf2152-657c-4f87-b9e0-fe7910780270",
   "metadata": {
    "tags": []
   },
   "outputs": [
    {
     "data": {
      "text/plain": [
       "3.3333333333333335"
      ]
     },
     "execution_count": 2,
     "metadata": {},
     "output_type": "execute_result"
    }
   ],
   "source": [
    "# This will convert 200 minutes to hours by dividing by 60\n",
    "\n",
    "200/60"
   ]
  },
  {
   "cell_type": "markdown",
   "id": "acd0e49d-789c-4d9d-b8aa-35c95d16b9a6",
   "metadata": {},
   "source": [
    "## Author\n",
    "\n",
    "Travis Corgey"
   ]
  },
  {
   "cell_type": "code",
   "execution_count": null,
   "id": "e1d07678-9610-493c-b85a-67dd486bdabd",
   "metadata": {},
   "outputs": [],
   "source": []
  }
 ],
 "metadata": {
  "kernelspec": {
   "display_name": "Python",
   "language": "python",
   "name": "conda-env-python-py"
  },
  "language_info": {
   "codemirror_mode": {
    "name": "ipython",
    "version": 3
   },
   "file_extension": ".py",
   "mimetype": "text/x-python",
   "name": "python",
   "nbconvert_exporter": "python",
   "pygments_lexer": "ipython3",
   "version": "3.7.12"
  }
 },
 "nbformat": 4,
 "nbformat_minor": 5
}
